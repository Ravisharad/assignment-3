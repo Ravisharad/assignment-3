{
 "cells": [
  {
   "cell_type": "code",
   "execution_count": null,
   "id": "5e670777",
   "metadata": {},
   "outputs": [],
   "source": [
    "#1. Why are functions advantageous to have in your programs?\n",
    "Functions are used to reduce complexity of code and improve reusability of code."
   ]
  },
  {
   "cell_type": "code",
   "execution_count": null,
   "id": "3c98f1b8",
   "metadata": {},
   "outputs": [],
   "source": [
    "#2  When does the code in a function run: when it's specified or when it's called?\n",
    "Function code runs when it is called"
   ]
  },
  {
   "cell_type": "code",
   "execution_count": null,
   "id": "d8b23c43",
   "metadata": {},
   "outputs": [],
   "source": [
    "# 3  What statement creates a function?\n",
    "Keyword def is used to create a function followed by function nae round bracket and semi colon."
   ]
  },
  {
   "cell_type": "code",
   "execution_count": null,
   "id": "3789c033",
   "metadata": {
    "collapsed": true
   },
   "outputs": [],
   "source": [
    "# 4 . What is the difference between a function and a function call?\n",
    "function is written to store a set of codes for specific operation which can be reused multiple times.\n",
    "Function call is used to calling the written function."
   ]
  },
  {
   "cell_type": "code",
   "execution_count": null,
   "id": "1d1e1582",
   "metadata": {},
   "outputs": [],
   "source": [
    "# q5 How many global scopes are there in a Python program? How many local scopes?\n",
    "In a program, there is only one global variable"
   ]
  },
  {
   "cell_type": "code",
   "execution_count": null,
   "id": "6a6226be",
   "metadata": {},
   "outputs": [],
   "source": [
    "# 6 What happens to variables in a local scope when the function call returns?\n",
    "When function is called local variables disappear . They can not be used again for new function cause they are defined locally."
   ]
  },
  {
   "cell_type": "code",
   "execution_count": null,
   "id": "0a3ddfad",
   "metadata": {},
   "outputs": [],
   "source": [
    "# 7. What is the concept of a return value? Is it possible to have a return value in an expression?\n",
    "The value that function returns to caller is called as return value.Yes we can have a return value in expression."
   ]
  },
  {
   "cell_type": "code",
   "execution_count": null,
   "id": "043f77cf",
   "metadata": {},
   "outputs": [],
   "source": [
    "#8. If a function does not have a return statement, what is the return value of a call to that function?\n",
    "it will return 'None'."
   ]
  },
  {
   "cell_type": "code",
   "execution_count": null,
   "id": "81cf5230",
   "metadata": {},
   "outputs": [],
   "source": [
    "#9. How do you make a function variable refer to the global variable?\n",
    "It can be done by using global keyword at time of variable declaration."
   ]
  },
  {
   "cell_type": "code",
   "execution_count": null,
   "id": "4b3f33ed",
   "metadata": {},
   "outputs": [],
   "source": []
  },
  {
   "cell_type": "code",
   "execution_count": null,
   "id": "509d15ff",
   "metadata": {},
   "outputs": [],
   "source": [
    "#q10 What is the data type of None?\n",
    "None type"
   ]
  },
  {
   "cell_type": "code",
   "execution_count": null,
   "id": "acd54f33",
   "metadata": {},
   "outputs": [],
   "source": [
    "#q11 What does the sentence import areallyourpetsnamederic do?"
   ]
  },
  {
   "cell_type": "code",
   "execution_count": 1,
   "id": "dc6c04a9",
   "metadata": {},
   "outputs": [
    {
     "ename": "ModuleNotFoundError",
     "evalue": "No module named 'areallyourpetsnamederic'",
     "output_type": "error",
     "traceback": [
      "\u001b[1;31m---------------------------------------------------------------------------\u001b[0m",
      "\u001b[1;31mModuleNotFoundError\u001b[0m                       Traceback (most recent call last)",
      "\u001b[1;32m<ipython-input-1-b1ea9cb2228f>\u001b[0m in \u001b[0;36m<module>\u001b[1;34m\u001b[0m\n\u001b[1;32m----> 1\u001b[1;33m \u001b[1;32mimport\u001b[0m \u001b[0mareallyourpetsnamederic\u001b[0m\u001b[1;33m\u001b[0m\u001b[1;33m\u001b[0m\u001b[0m\n\u001b[0m",
      "\u001b[1;31mModuleNotFoundError\u001b[0m: No module named 'areallyourpetsnamederic'"
     ]
    }
   ],
   "source": [
    "import areallyourpetsnamederic"
   ]
  },
  {
   "cell_type": "code",
   "execution_count": null,
   "id": "65484878",
   "metadata": {},
   "outputs": [],
   "source": [
    "# q 12  If you had a bacon() feature in a spam module, what would you call it after importing spam?\n",
    "spam.bacon()"
   ]
  },
  {
   "cell_type": "code",
   "execution_count": null,
   "id": "a5a15e89",
   "metadata": {},
   "outputs": [],
   "source": [
    "#q13. What can you do to save a programme from crashing if it encounters an error?"
   ]
  },
  {
   "cell_type": "code",
   "execution_count": null,
   "id": "bfd30741",
   "metadata": {},
   "outputs": [],
   "source": [
    "We can use code in try and except run statement to avoid crashing , it will throw error message and skip statement in between."
   ]
  },
  {
   "cell_type": "code",
   "execution_count": null,
   "id": "d781ab7f",
   "metadata": {},
   "outputs": [],
   "source": [
    "#14. What is the purpose of the try clause? What is the purpose of the except clause?\n",
    "try block and except block is used for handling errors in code. If there are no exceptons try block will execute the code\n",
    "in case of exceptions except block will run the code."
   ]
  }
 ],
 "metadata": {
  "kernelspec": {
   "display_name": "Python 3",
   "language": "python",
   "name": "python3"
  },
  "language_info": {
   "codemirror_mode": {
    "name": "ipython",
    "version": 3
   },
   "file_extension": ".py",
   "mimetype": "text/x-python",
   "name": "python",
   "nbconvert_exporter": "python",
   "pygments_lexer": "ipython3",
   "version": "3.8.8"
  }
 },
 "nbformat": 4,
 "nbformat_minor": 5
}
